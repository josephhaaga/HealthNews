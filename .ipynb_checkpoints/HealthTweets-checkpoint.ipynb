{
 "cells": [
  {
   "cell_type": "code",
   "execution_count": 25,
   "metadata": {
    "collapsed": true
   },
   "outputs": [],
   "source": [
    "# index_of_link = wsj[2].apply(lambda x: x.find(\"http\"))\n",
    "# number_without_link = len([i for i, x in enumerate(index_of_link) if x == -1])\n",
    "# print(\"{}% don't have links\".format(number_without_link*100 / len(index_of_link)))"
   ]
  },
  {
   "cell_type": "code",
   "execution_count": 129,
   "metadata": {
    "collapsed": true
   },
   "outputs": [],
   "source": [
    "import pandas as pd\n",
    "import numpy as np\n",
    "import os\n",
    "import matplotlib\n",
    "%matplotlib inline"
   ]
  },
  {
   "cell_type": "markdown",
   "metadata": {},
   "source": [
    "## Data Ingest"
   ]
  },
  {
   "cell_type": "code",
   "execution_count": 135,
   "metadata": {
    "scrolled": true
   },
   "outputs": [
    {
     "name": "stdout",
     "output_type": "stream",
     "text": [
      "Loading in cbchealth... wsjhealth... nprhealth... goodhealth... NBChealth... cnnhealth... foxnewshealth... everydayhealth... gdnhealthcare... nytimeshealth... bbchealth... KaiserHealthNews... usnewshealth... latimeshealth... reuters_health... msnhealthnews... Done\n"
     ]
    }
   ],
   "source": [
    "# Some of the tweets use the delimiter in their content, so we parse it manually\n",
    "\n",
    "all_tweets = []\n",
    "\n",
    "print(\"Loading in \", end='')\n",
    "for filename in os.listdir(os.getcwd()+\"/data/Health-Tweets\"):\n",
    "    source = filename[:filename.index(\".txt\")]\n",
    "    print(source, end='... ')\n",
    "    for line in open('data/Health-Tweets/'+filename, encoding = \"ISO-8859-1\"):\n",
    "        line = line.split('|')\n",
    "        if len(line) > 2:\n",
    "            tweet_id = line[0]\n",
    "            date = line[1]\n",
    "            content = \" \".join(line[2:])\n",
    "            all_tweets.append({\"id\": tweet_id, \"date\":date, \"content\":content, \"source\": source})\n",
    "        else:\n",
    "            pass;\n",
    "print(\"Done\")\n",
    "\n",
    "all_tweets = pd.DataFrame(all_tweets)\n",
    "all_tweets['date'] = pd.to_datetime(all_tweets['date'])"
   ]
  },
  {
   "cell_type": "code",
   "execution_count": 136,
   "metadata": {
    "scrolled": true
   },
   "outputs": [
    {
     "data": {
      "text/html": [
       "<div>\n",
       "<style>\n",
       "    .dataframe thead tr:only-child th {\n",
       "        text-align: right;\n",
       "    }\n",
       "\n",
       "    .dataframe thead th {\n",
       "        text-align: left;\n",
       "    }\n",
       "\n",
       "    .dataframe tbody tr th {\n",
       "        vertical-align: top;\n",
       "    }\n",
       "</style>\n",
       "<table border=\"1\" class=\"dataframe\">\n",
       "  <thead>\n",
       "    <tr style=\"text-align: right;\">\n",
       "      <th></th>\n",
       "      <th>content</th>\n",
       "      <th>date</th>\n",
       "      <th>id</th>\n",
       "      <th>source</th>\n",
       "    </tr>\n",
       "  </thead>\n",
       "  <tbody>\n",
       "    <tr>\n",
       "      <th>0</th>\n",
       "      <td>Drugs need careful monitoring for expiry dates...</td>\n",
       "      <td>2015-04-09 20:37:25</td>\n",
       "      <td>586266687948881921</td>\n",
       "      <td>cbchealth</td>\n",
       "    </tr>\n",
       "    <tr>\n",
       "      <th>1</th>\n",
       "      <td>Sabra hummus recalled in U.S. http://www.cbc.c...</td>\n",
       "      <td>2015-04-09 20:37:25</td>\n",
       "      <td>586266687017771008</td>\n",
       "      <td>cbchealth</td>\n",
       "    </tr>\n",
       "    <tr>\n",
       "      <th>2</th>\n",
       "      <td>U.S. sperm bank sued by Canadian couple didn't...</td>\n",
       "      <td>2015-04-09 20:37:24</td>\n",
       "      <td>586266685495214080</td>\n",
       "      <td>cbchealth</td>\n",
       "    </tr>\n",
       "    <tr>\n",
       "      <th>3</th>\n",
       "      <td>Manitoba pharmacists want clampdown on Tylenol...</td>\n",
       "      <td>2015-04-09 17:57:00</td>\n",
       "      <td>586226316820623360</td>\n",
       "      <td>cbchealth</td>\n",
       "    </tr>\n",
       "    <tr>\n",
       "      <th>4</th>\n",
       "      <td>Mom of 7 'spooked' by vaccinations reverses st...</td>\n",
       "      <td>2015-04-09 13:50:44</td>\n",
       "      <td>586164344452354048</td>\n",
       "      <td>cbchealth</td>\n",
       "    </tr>\n",
       "  </tbody>\n",
       "</table>\n",
       "</div>"
      ],
      "text/plain": [
       "                                             content                date  \\\n",
       "0  Drugs need careful monitoring for expiry dates... 2015-04-09 20:37:25   \n",
       "1  Sabra hummus recalled in U.S. http://www.cbc.c... 2015-04-09 20:37:25   \n",
       "2  U.S. sperm bank sued by Canadian couple didn't... 2015-04-09 20:37:24   \n",
       "3  Manitoba pharmacists want clampdown on Tylenol... 2015-04-09 17:57:00   \n",
       "4  Mom of 7 'spooked' by vaccinations reverses st... 2015-04-09 13:50:44   \n",
       "\n",
       "                   id     source  \n",
       "0  586266687948881921  cbchealth  \n",
       "1  586266687017771008  cbchealth  \n",
       "2  586266685495214080  cbchealth  \n",
       "3  586226316820623360  cbchealth  \n",
       "4  586164344452354048  cbchealth  "
      ]
     },
     "execution_count": 136,
     "metadata": {},
     "output_type": "execute_result"
    }
   ],
   "source": [
    "all_tweets.head()"
   ]
  },
  {
   "cell_type": "markdown",
   "metadata": {},
   "source": [
    "## Trends and aggregate metrics"
   ]
  },
  {
   "cell_type": "markdown",
   "metadata": {},
   "source": [
    "### Stories publicized on Twitter over time"
   ]
  },
  {
   "cell_type": "code",
   "execution_count": 137,
   "metadata": {},
   "outputs": [
    {
     "data": {
      "text/plain": [
       "<matplotlib.axes._subplots.AxesSubplot at 0x10e9e6b38>"
      ]
     },
     "execution_count": 137,
     "metadata": {},
     "output_type": "execute_result"
    },
    {
     "data": {
      "image/png": "[encoded data removed]",
      "text/plain": [
       "<matplotlib.figure.Figure at 0x10f093828>"
      ]
     },
     "metadata": {},
     "output_type": "display_data"
    }
   ],
   "source": [
    "all_tweets['calendar_date'] = all_tweets['date'].apply(lambda x: x.date())\n",
    "stories_by_date = all_tweets.groupby(by='calendar_date').count()['content']\n",
    "stories_by_date.plot(title='Stories published over time')"
   ]
  },
  {
   "cell_type": "markdown",
   "metadata": {},
   "source": [
    "### Source adoption of Twitter over time"
   ]
  },
  {
   "cell_type": "code",
   "execution_count": 182,
   "metadata": {},
   "outputs": [
    {
     "data": {
      "text/plain": [
       "<matplotlib.legend.Legend at 0x112168160>"
      ]
     },
     "execution_count": 182,
     "metadata": {},
     "output_type": "execute_result"
    },
    {
     "data": {
      "image/png": "[encoded data removed]",
      "text/plain": [
       "<matplotlib.figure.Figure at 0x112138d30>"
      ]
     },
     "metadata": {},
     "output_type": "display_data"
    }
   ],
   "source": [
    "stories_per_day_by_source = pd.get_dummies(all_tweets, columns=['source']).groupby(by='calendar_date').sum()\n",
    "cleaned_feature_names = {x:x[x.index(\"_\")+1:] for x in list(stories_per_day_by_source.columns)}\n",
    "stories_per_day_by_source = stories_per_day_by_source.rename(columns = cleaned_feature_names)\n",
    "plt = stories_per_day_by_source.plot()\n",
    "plt.legend(bbox_to_anchor=(1.05, 1), loc=2, borderaxespad=0.)"
   ]
  },
  {
   "cell_type": "markdown",
   "metadata": {},
   "source": [
    "## Keyword extraction"
   ]
  },
  {
   "cell_type": "code",
   "execution_count": 186,
   "metadata": {},
   "outputs": [
    {
     "name": "stdout",
     "output_type": "stream",
     "text": [
      "[nltk_data] Downloading package stopwords to\n",
      "[nltk_data]     /Users/josephhaaga/nltk_data...\n",
      "[nltk_data]   Unzipping corpora/stopwords.zip.\n"
     ]
    }
   ],
   "source": [
    "import nltk\n",
    "from nltk.corpus import stopwords\n",
    "nltk.download('stopwords')\n",
    "stopwords_en = stopwords.words('english')"
   ]
  },
  {
   "cell_type": "code",
   "execution_count": 209,
   "metadata": {},
   "outputs": [
    {
     "name": "stdout",
     "output_type": "stream",
     "text": [
      "0.1879164955942267% don't have links\n"
     ]
    }
   ],
   "source": [
    "all_tweets['index_of_link'] = all_tweets['content'].apply(lambda x: x.find(\"http\"))\n",
    "number_without_link = len(all_tweets[all_tweets['index_of_link'] == 0])\n",
    "print(\"{}% don't have links\".format(number_without_link*100 / len(all_tweets)))"
   ]
  },
  {
   "cell_type": "code",
   "execution_count": null,
   "metadata": {
    "collapsed": true
   },
   "outputs": [],
   "source": []
  },
  {
   "cell_type": "code",
   "execution_count": 217,
   "metadata": {},
   "outputs": [],
   "source": [
    "all_tweets['urls'] = all_tweets['content'].apply(lambda x: re.findall(r\"http\\S+\", x))\n",
    "all_tweets['raw_text'] = all_tweets['content'].apply(lambda x: re.sub(r\"http\\S+\", \"\", x))\n",
    "all_tweets['raw_text'] = all_tweets['raw_text'].apply(lambda x: x.lower())\n",
    "all_tweets['without_stop_words'] = all_tweets['raw_text']"
   ]
  },
  {
   "cell_type": "code",
   "execution_count": 229,
   "metadata": {},
   "outputs": [],
   "source": [
    "def remove_stopwords(x):\n",
    "    output = ''\n",
    "    for w in x.split(\" \"):\n",
    "        if w not in stopwords_en:\n",
    "            output = output+\" \"+w\n",
    "    return output"
   ]
  },
  {
   "cell_type": "code",
   "execution_count": 230,
   "metadata": {},
   "outputs": [
    {
     "data": {
      "text/plain": [
       "0         drugs need careful monitoring expiry dates, p...\n",
       "1                            sabra hummus recalled u.s. \\n\n",
       "2         u.s. sperm bank sued canadian couple verify d...\n",
       "3         manitoba pharmacists want clampdown tylenol 1...\n",
       "4         mom 7 'spooked' vaccinations reverses stand â...\n",
       "5         hamilton police send mental health pros front...\n",
       "6         wind turbine noise linked 1 health issue â ...\n",
       "7         'wild west' e-cigarettes sparks debate regula...\n",
       "8         dementia patients sold unproven 'brainwave op...\n",
       "9         passengers second china-vancouver flight 2 we...\n",
       "10        check expiry dates, health canada advises ale...\n",
       "11        hashtagging eating disorders: help hindrance ...\n",
       "12        obama says memory daughter's preschool asthma...\n",
       "13        women healing accused failing drug addicts an...\n",
       "14        expired alesse birth control exposes 'deficie...\n",
       "15        despite paying top dollar, military mental he...\n",
       "16        boy's severe peanut, fish allergies traced bl...\n",
       "17        weight watchers, jenny craig get best marks d...\n",
       "18        cancer-stricken baby whitehorse awaiting live...\n",
       "19        avian flu confirmed turkey farm near woodstoc...\n",
       "20        sperm donor's criminal record, schizophrenia ...\n",
       "21        shoppers drug mart mistakenly sells expired b...\n",
       "22        fracking criticism spreads, even alberta texa...\n",
       "23        fake oxycontin suspected od death moose jaw, ...\n",
       "24        b.c. doctor geoffrey harding slain vacation b...\n",
       "25        titanium implant 'massively' improves quality...\n",
       "26        listen mom: loud smartphone music blast heari...\n",
       "27        addiction canada ignores government orders pa...\n",
       "28        breast milk sold online may contaminated cow'...\n",
       "29        ghana: canada 'scaling up' pediatric nursing ...\n",
       "                               ...                        \n",
       "63296     steve jobs faces uphill battle cancer: expert...\n",
       "63297     hpv vaccination rates low among teen girls, c...\n",
       "63298     u.s.-mandated report finds vaccines safe kids...\n",
       "63299     coach summitt puts spotlight early-onset alzh...\n",
       "63300     realistic activity goals seem ease arthritis ...\n",
       "63301              parents ease back-to-school stress:  \\n\n",
       "63302     east coast urged prepare hurricane irene appr...\n",
       "63303     long-term antibiotic use may lessen copd flar...\n",
       "63304     college students missing fruits, veggies: sur...\n",
       "63305     1 7 ob/gyns perform abortions, survey finds:  \\n\n",
       "63306     sophisticated scan may spot seeds alzheimer's...\n",
       "63307     cooling soldiers combat injuries may improve ...\n",
       "63308     unintended pregnancies rising among poorer u....\n",
       "63309     2 salmonella outbreaks traced baby chicks, du...\n",
       "63310     'bubble boy' kids living normally gene therap...\n",
       "63311     cancer drug shortages getting worse, fda says...\n",
       "63312     obesity costing states billion yearly medical...\n",
       "63313     antidepressant tied dangerous heart rhythm, f...\n",
       "63314        east coast urged prepare hurricane irene:  \\n\n",
       "63315     tight communities lower violence linked liquo...\n",
       "63316     three-quarters u.s. jobless can't afford heal...\n",
       "63317     breast-feeding prevent kids' eczema, research...\n",
       "63318     teen drinking, smoking higher among facebook ...\n",
       "63319     nurses risk accidental exposure chemo drugs: ...\n",
       "63320         5.9-magnitude quake unnerves east coast:  \\n\n",
       "63321     mainstay meds often cut accidentally hospital...\n",
       "63322     injectable psoriasis drugs may hike heart ris...\n",
       "63323     certain foods said help lower bad cholesterol...\n",
       "63324     boys mature sexually earlier ever before: stu...\n",
       "63325     mental illness affects women, men differently...\n",
       "Name: without_stop_words, Length: 63326, dtype: object"
      ]
     },
     "execution_count": 230,
     "metadata": {},
     "output_type": "execute_result"
    }
   ],
   "source": [
    "all_tweets['without_stop_words'].apply(remove_stopwords)"
   ]
  },
  {
   "cell_type": "code",
   "execution_count": null,
   "metadata": {
    "collapsed": true
   },
   "outputs": [],
   "source": []
  },
  {
   "cell_type": "code",
   "execution_count": 199,
   "metadata": {},
   "outputs": [
    {
     "data": {
      "text/plain": [
       "['Drugs',\n",
       " 'need',\n",
       " 'careful',\n",
       " 'monitoring',\n",
       " 'for',\n",
       " 'expiry',\n",
       " 'dates',\n",
       " ',',\n",
       " 'pharmacists',\n",
       " 'say',\n",
       " 'http',\n",
       " ':',\n",
       " '//www.cbc.ca/news/health/drugs-need-careful-monitoring-for-expiry-dates-pharmacists-say-1.3026749',\n",
       " '?',\n",
       " 'cmp=rss']"
      ]
     },
     "execution_count": 199,
     "metadata": {},
     "output_type": "execute_result"
    }
   ],
   "source": [
    "# from nltk.tokenize import TreebankWordTokenizer\n",
    "# tokenizer = TreebankWordTokenizer()\n",
    "# s = all_tweets['content'][0]\n",
    "# tokenizer.tokenize(s)"
   ]
  },
  {
   "cell_type": "code",
   "execution_count": null,
   "metadata": {
    "collapsed": true
   },
   "outputs": [],
   "source": []
  },
  {
   "cell_type": "code",
   "execution_count": 231,
   "metadata": {},
   "outputs": [
    {
     "name": "stdout",
     "output_type": "stream",
     "text": [
      "Collecting rake-nltk\n",
      "  Downloading https://files.pythonhosted.org/packages/c7/41/649b240a3bad300ef07da90e0559b67a404265431043af88ea54688072fa/rake_nltk-1.0.2.tar.gz\n",
      "Requirement already satisfied: nltk in /anaconda3/lib/python3.6/site-packages (from rake-nltk)\n",
      "Requirement already satisfied: six in /anaconda3/lib/python3.6/site-packages (from nltk->rake-nltk)\n",
      "Building wheels for collected packages: rake-nltk\n",
      "  Running setup.py bdist_wheel for rake-nltk ... \u001b[?25ldone\n",
      "\u001b[?25h  Stored in directory: /Users/josephhaaga/Library/Caches/pip/wheels/19/d9/e5/a69499502d0f7d15d115d7660addafc95f546586f7106f84a7\n",
      "Successfully built rake-nltk\n",
      "Installing collected packages: rake-nltk\n",
      "Successfully installed rake-nltk-1.0.2\n",
      "\u001b[33mYou are using pip version 9.0.1, however version 10.0.0 is available.\n",
      "You should consider upgrading via the 'pip install --upgrade pip' command.\u001b[0m\n",
      "[nltk_data] Downloading package punkt to\n",
      "[nltk_data]     /Users/josephhaaga/nltk_data...\n",
      "[nltk_data]   Unzipping tokenizers/punkt.zip.\n"
     ]
    }
   ],
   "source": [
    "!pip install rake-nltk\n",
    "from rake_nltk import Rake"
   ]
  },
  {
   "cell_type": "code",
   "execution_count": 233,
   "metadata": {},
   "outputs": [
    {
     "data": {
      "text/plain": [
       "['... 21 shoppers drug mart mistakenly sells expired bi ... 22 fracking criticism spreads',\n",
       " 'term antibiotic use may lessen copd flare ... 63304 college students missing',\n",
       " 'combat injuries may impr ... 63308 unintended pregnancies rising among poorer u',\n",
       " 'vaccinations reverses st ... 5 hamilton police send mental health pros',\n",
       " 'failing drug add ... 14 expired alesse birth control exposes',\n",
       " 'pediatric nu ... ... 63296 steve jobs faces uphill battle',\n",
       " 'cancer :... 63297 hpv vaccination rates low among teen girls',\n",
       " 'help lower bad cholester ... 63324 boys mature sexually earlier',\n",
       " 'health canada advises afte ... 11 hashtagging eating disorders',\n",
       " 'sur ... 63306 sophisticated scan may spot seeds',\n",
       " 'onset al ... 63300 realistic activity goals seem',\n",
       " 'fda says :... 63312 obesity costing states billion',\n",
       " 'smoking higher among facebook u ... 63319 nurses',\n",
       " 'blast ... 27 addiction canada ignores government orders',\n",
       " 'turkey farm near woodst ... 20 sperm donor',\n",
       " 'dangerous heart rhythm ,... 63314 east coast urged',\n",
       " '... 63311 cancer drug shortages getting worse',\n",
       " 'hike heart ... 63323 certain foods said',\n",
       " 'whitehorse awaiting ... 19 avian flu confirmed',\n",
       " 'k ... 63299 coach summitt puts spotlight',\n",
       " 'deficien ... 15 despite paying top dollar',\n",
       " '... 28 breast milk sold online may',\n",
       " 'http ... 63321 mainstay meds often cut',\n",
       " 'expiry dates ... 1 sabra hummus recalled',\n",
       " ':... 63325 mental illness affects women',\n",
       " '... 63322 injectable psoriasis drugs may',\n",
       " 'http :... 63302 east coast urged',\n",
       " 'hindranc ... 12 obama says memory',\n",
       " '... 8 dementia patients sold unproven',\n",
       " 'yearly medic ... 63313 antidepressant tied',\n",
       " '... 3 manitoba pharmacists want clampdown',\n",
       " 'hurricane iren ... 63315 tight communities',\n",
       " '.- mandated report finds vaccines safe',\n",
       " '... 6 wind turbine noise linked',\n",
       " '... 63309 2 salmonella outbreaks traced',\n",
       " 'res ... 63318 teen drinking',\n",
       " '... 10 check expiry dates',\n",
       " 'magnitude quake unnerves east coast',\n",
       " 'preschool asth ... 13 women',\n",
       " 'hurricane irene ... 63303 long',\n",
       " '1 health iss ... 7',\n",
       " 'vacation ... 25 titanium implant',\n",
       " 'improves quality ... 26 listen',\n",
       " 'contaminated wi ... 29 ghana',\n",
       " 'alzheimer ... 63307 cooling soldiers',\n",
       " '... 23 fake oxycontin suspected',\n",
       " '0 drugs need careful monitoring',\n",
       " 'military menta ... 16 boy',\n",
       " 'ease arthriti ... 63301 parents',\n",
       " 'jenny craig get best marks',\n",
       " 'brainwave opt ... 9 passengers',\n",
       " 'chem ... 63320 5',\n",
       " 'cd ... 63298 u',\n",
       " 'c ... 2 u',\n",
       " 'moose ... 24 b',\n",
       " '... 17 weight watchers',\n",
       " 'men differently ,... name',\n",
       " 'tylenol ... 4 mom',\n",
       " '... 18 cancer',\n",
       " 'doctor geoffrey harding slain',\n",
       " '... 63317 breast',\n",
       " 'lower violence linked',\n",
       " 'veggie ... 63305',\n",
       " '... 63316 three',\n",
       " 'sperm bank sued',\n",
       " 'http :// www',\n",
       " 'fish allergies traced',\n",
       " 'loud smartphone music',\n",
       " 'cigarettes sparks debate',\n",
       " '... 63310',\n",
       " 'kids living normally',\n",
       " 'canada',\n",
       " 'u',\n",
       " 'help',\n",
       " 'ease back',\n",
       " 'bubble boy',\n",
       " '7 ob',\n",
       " 'prevent kids',\n",
       " '1',\n",
       " 'wild west',\n",
       " 'vancouver flight',\n",
       " 'stricken baby',\n",
       " 'severe peanut',\n",
       " 'second china',\n",
       " 'school stress',\n",
       " 'perform abortions',\n",
       " 'od death',\n",
       " 'healing accused',\n",
       " 'criminal record',\n",
       " 'canadian couple',\n",
       " 'baby chicks',\n",
       " 'accidental exposure',\n",
       " '9',\n",
       " '7',\n",
       " 'mom',\n",
       " 'c',\n",
       " 'spooked',\n",
       " 'schizophrenia',\n",
       " 'scaling',\n",
       " 'risk',\n",
       " 'quarters',\n",
       " 'prepare',\n",
       " 'object',\n",
       " 'massively',\n",
       " 'length',\n",
       " 'jobless',\n",
       " 'gyns',\n",
       " 'gene',\n",
       " 'fruits',\n",
       " 'feeding',\n",
       " 'ever',\n",
       " 'even',\n",
       " 'eczema',\n",
       " 'early',\n",
       " 'e',\n",
       " 'dtype',\n",
       " 'daughter',\n",
       " 'content',\n",
       " 'cbc',\n",
       " 'alberta',\n",
       " 'afford',\n",
       " 'accidentally',\n",
       " '63326']"
      ]
     },
     "execution_count": 233,
     "metadata": {},
     "output_type": "execute_result"
    }
   ],
   "source": [
    "r=Rake()\n",
    "r.extract_keywords_from_text(str(all_tweets['content']))\n",
    "r.get_ranked_phrases() # To get keyword phrases ranked highest to lowest."
   ]
  },
  {
   "cell_type": "code",
   "execution_count": 235,
   "metadata": {},
   "outputs": [
    {
     "data": {
      "text/plain": [
       "0        Drugs need careful monitoring for expiry dates...\n",
       "1        Sabra hummus recalled in U.S. http://www.cbc.c...\n",
       "2        U.S. sperm bank sued by Canadian couple didn't...\n",
       "3        Manitoba pharmacists want clampdown on Tylenol...\n",
       "4        Mom of 7 'spooked' by vaccinations reverses st...\n",
       "5        Hamilton police send mental health pros to the...\n",
       "6        Wind turbine noise linked to only 1 health iss...\n",
       "7        'Wild West' of e-cigarettes sparks debate over...\n",
       "8        Dementia patients sold unproven 'brainwave opt...\n",
       "9        Passengers on second China-Vancouver flight in...\n",
       "10       Check expiry dates, Health Canada advises afte...\n",
       "11       Hashtagging eating disorders: help or hindranc...\n",
       "12       Obama says memory of daughter's preschool asth...\n",
       "13       Women Into Healing accused of failing drug add...\n",
       "14       Expired Alesse birth control exposes 'deficien...\n",
       "15       Despite paying top dollar, some military menta...\n",
       "16       Boy's severe peanut, fish allergies traced to ...\n",
       "17       Weight Watchers, Jenny Craig get best marks in...\n",
       "18       Cancer-stricken baby from Whitehorse awaiting ...\n",
       "19       Avian flu confirmed on turkey farm near Woodst...\n",
       "20       Sperm donor's criminal record, schizophrenia a...\n",
       "21       Shoppers Drug Mart mistakenly sells expired bi...\n",
       "22       Fracking criticism spreads, even in Alberta an...\n",
       "23       Fake OxyContin suspected in OD death of Moose ...\n",
       "24       B.C. doctor Geoffrey Harding slain on vacation...\n",
       "25       Titanium implant 'massively' improves quality ...\n",
       "26       Listen to Mom: Loud smartphone music can blast...\n",
       "27       Addiction Canada ignores government orders to ...\n",
       "28       Breast milk sold online may be contaminated wi...\n",
       "29       Ghana: How Canada is 'scaling up' pediatric nu...\n",
       "                               ...                        \n",
       "63296    Steve Jobs Faces Uphill Battle Against Cancer:...\n",
       "63297    HPV Vaccination Rates Low Among Teen Girls, CD...\n",
       "63298    U.S.-Mandated Report Finds Vaccines Safe for K...\n",
       "63299    Coach Summitt Puts Spotlight on Early-Onset Al...\n",
       "63300    Realistic Activity Goals Seem to Ease Arthriti...\n",
       "63301    Parents Can Ease Back-to-School Stress:  http:...\n",
       "63302    East Coast Urged to Prepare as Hurricane Irene...\n",
       "63303    Long-Term Antibiotic Use May Lessen COPD Flare...\n",
       "63304    College Students Missing Out on Fruits, Veggie...\n",
       "63305    Only 1 in 7 Ob/Gyns Now Perform Abortions, Sur...\n",
       "63306    Sophisticated Scan May Spot Seeds of Alzheimer...\n",
       "63307    Cooling Soldiers With Combat Injuries May Impr...\n",
       "63308    Unintended Pregnancies Rising Among Poorer U.S...\n",
       "63309    2 Salmonella Outbreaks Traced to Baby Chicks, ...\n",
       "63310    'Bubble Boy' Kids Living Normally After Gene T...\n",
       "63311    Cancer Drug Shortages Getting Worse, FDA Says:...\n",
       "63312    Obesity Costing States Billion in Yearly Medic...\n",
       "63313    Antidepressant Tied to Dangerous Heart Rhythm,...\n",
       "63314    East Coast Urged to Prepare for Hurricane Iren...\n",
       "63315    Tight Communities Can Lower Violence Linked to...\n",
       "63316    Three-Quarters of U.S. Jobless Can't Afford He...\n",
       "63317    Breast-Feeding Won't Prevent Kids' Eczema, Res...\n",
       "63318    Teen Drinking, Smoking Higher Among Facebook U...\n",
       "63319    Nurses at Risk for Accidental Exposure to Chem...\n",
       "63320    5.9-Magnitude Quake Unnerves East Coast:  http...\n",
       "63321    Mainstay Meds Often Cut Off Accidentally After...\n",
       "63322    Injectable Psoriasis Drugs May Not Hike Heart ...\n",
       "63323    Certain Foods Said to Help Lower Bad Cholester...\n",
       "63324    Boys Mature Sexually Earlier Than Ever Before:...\n",
       "63325    Mental Illness Affects Women, Men Differently,...\n",
       "Name: content, Length: 63326, dtype: object"
      ]
     },
     "execution_count": 235,
     "metadata": {},
     "output_type": "execute_result"
    }
   ],
   "source": [
    "all_tweets['content']"
   ]
  }
 ],
 "metadata": {
  "kernelspec": {
   "display_name": "Python 3",
   "language": "python",
   "name": "python3"
  },
  "language_info": {
   "codemirror_mode": {
    "name": "ipython",
    "version": 3
   },
   "file_extension": ".py",
   "mimetype": "text/x-python",
   "name": "python",
   "nbconvert_exporter": "python",
   "pygments_lexer": "ipython3",
   "version": "3.6.3"
  }
 },
 "nbformat": 4,
 "nbformat_minor": 2
}
