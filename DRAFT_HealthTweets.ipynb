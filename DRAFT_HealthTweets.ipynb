{
 "cells": [
  {
   "cell_type": "code",
   "execution_count": 10,
   "metadata": {
    "collapsed": true
   },
   "outputs": [],
   "source": [
    "# index_of_link = wsj[2].apply(lambda x: x.find(\"http\"))\n",
    "# number_without_link = len([i for i, x in enumerate(index_of_link) if x == -1])\n",
    "# print(\"{}% don't have links\".format(number_without_link*100 / len(index_of_link)))"
   ]
  },
  {
   "cell_type": "code",
   "execution_count": 11,
   "metadata": {
    "collapsed": true
   },
   "outputs": [],
   "source": [
    "import pandas as pd\n",
    "import numpy as np\n",
    "import os\n",
    "import matplotlib\n",
    "import re\n",
    "%matplotlib inline"
   ]
  },
  {
   "cell_type": "markdown",
   "metadata": {},
   "source": [
    "## Data Ingest"
   ]
  },
  {
   "cell_type": "code",
   "execution_count": 12,
   "metadata": {
    "scrolled": true
   },
   "outputs": [
    {
     "name": "stdout",
     "output_type": "stream",
     "text": [
      "Loading in bbchealth... cbchealth... cnnhealth... everydayhealth... foxnewshealth... gdnhealthcare... goodhealth... KaiserHealthNews... latimeshealth... msnhealthnews... NBChealth... nprhealth... nytimeshealth... reuters_health... usnewshealth... wsjhealth... Done\n"
     ]
    }
   ],
   "source": [
    "# Some of the tweets use the delimiter in their content, so we parse it manually\n",
    "\n",
    "all_tweets = []\n",
    "\n",
    "print(\"Loading in \", end='')\n",
    "for filename in os.listdir(os.getcwd()+\"/data/Health-Tweets\"):\n",
    "    source = filename[:filename.index(\".txt\")]\n",
    "    print(source, end='... ')\n",
    "    for line in open('data/Health-Tweets/'+filename, encoding = \"ISO-8859-1\"):\n",
    "        line = line.split('|')\n",
    "        if len(line) > 2:\n",
    "            tweet_id = line[0]\n",
    "            date = line[1]\n",
    "            content = \" \".join(line[2:])\n",
    "            all_tweets.append({\"id\": tweet_id, \"date\":date, \"content\":content, \"source\": source})\n",
    "        else:\n",
    "            pass;\n",
    "print(\"Done\")\n",
    "\n",
    "all_tweets = pd.DataFrame(all_tweets)\n",
    "all_tweets['date'] = pd.to_datetime(all_tweets['date'])"
   ]
  },
  {
   "cell_type": "code",
   "execution_count": 13,
   "metadata": {
    "scrolled": true
   },
   "outputs": [
    {
     "data": {
      "text/html": [
       "<div>\n",
       "<style>\n",
       "    .dataframe thead tr:only-child th {\n",
       "        text-align: right;\n",
       "    }\n",
       "\n",
       "    .dataframe thead th {\n",
       "        text-align: left;\n",
       "    }\n",
       "\n",
       "    .dataframe tbody tr th {\n",
       "        vertical-align: top;\n",
       "    }\n",
       "</style>\n",
       "<table border=\"1\" class=\"dataframe\">\n",
       "  <thead>\n",
       "    <tr style=\"text-align: right;\">\n",
       "      <th></th>\n",
       "      <th>content</th>\n",
       "      <th>date</th>\n",
       "      <th>id</th>\n",
       "      <th>source</th>\n",
       "    </tr>\n",
       "  </thead>\n",
       "  <tbody>\n",
       "    <tr>\n",
       "      <th>0</th>\n",
       "      <td>Breast cancer risk test devised http://bbc.in/...</td>\n",
       "      <td>2015-04-09 01:31:50</td>\n",
       "      <td>585978391360221184</td>\n",
       "      <td>bbchealth</td>\n",
       "    </tr>\n",
       "    <tr>\n",
       "      <th>1</th>\n",
       "      <td>GP workload harming care - BMA poll http://bbc...</td>\n",
       "      <td>2015-04-08 23:30:18</td>\n",
       "      <td>585947808772960257</td>\n",
       "      <td>bbchealth</td>\n",
       "    </tr>\n",
       "    <tr>\n",
       "      <th>2</th>\n",
       "      <td>Short people's 'heart risk greater' http://bbc...</td>\n",
       "      <td>2015-04-08 23:30:18</td>\n",
       "      <td>585947807816650752</td>\n",
       "      <td>bbchealth</td>\n",
       "    </tr>\n",
       "    <tr>\n",
       "      <th>3</th>\n",
       "      <td>New approach against HIV 'promising' http://bb...</td>\n",
       "      <td>2015-04-08 18:05:28</td>\n",
       "      <td>585866060991078401</td>\n",
       "      <td>bbchealth</td>\n",
       "    </tr>\n",
       "    <tr>\n",
       "      <th>4</th>\n",
       "      <td>Coalition 'undermined NHS' - doctors http://bb...</td>\n",
       "      <td>2015-04-08 13:19:33</td>\n",
       "      <td>585794106170839041</td>\n",
       "      <td>bbchealth</td>\n",
       "    </tr>\n",
       "  </tbody>\n",
       "</table>\n",
       "</div>"
      ],
      "text/plain": [
       "                                             content                date  \\\n",
       "0  Breast cancer risk test devised http://bbc.in/... 2015-04-09 01:31:50   \n",
       "1  GP workload harming care - BMA poll http://bbc... 2015-04-08 23:30:18   \n",
       "2  Short people's 'heart risk greater' http://bbc... 2015-04-08 23:30:18   \n",
       "3  New approach against HIV 'promising' http://bb... 2015-04-08 18:05:28   \n",
       "4  Coalition 'undermined NHS' - doctors http://bb... 2015-04-08 13:19:33   \n",
       "\n",
       "                   id     source  \n",
       "0  585978391360221184  bbchealth  \n",
       "1  585947808772960257  bbchealth  \n",
       "2  585947807816650752  bbchealth  \n",
       "3  585866060991078401  bbchealth  \n",
       "4  585794106170839041  bbchealth  "
      ]
     },
     "execution_count": 13,
     "metadata": {},
     "output_type": "execute_result"
    }
   ],
   "source": [
    "all_tweets.head()"
   ]
  },
  {
   "cell_type": "markdown",
   "metadata": {},
   "source": [
    "## Trends and aggregate metrics"
   ]
  },
  {
   "cell_type": "markdown",
   "metadata": {},
   "source": [
    "### Stories publicized on Twitter over time"
   ]
  },
  {
   "cell_type": "code",
   "execution_count": 14,
   "metadata": {},
   "outputs": [
    {
     "data": {
      "text/plain": [
       "<matplotlib.axes._subplots.AxesSubplot at 0x1138002b0>"
      ]
     },
     "execution_count": 14,
     "metadata": {},
     "output_type": "execute_result"
    },
    {
     "data": {
      "image/png": "[encoded data removed]",
      "text/plain": [
       "<matplotlib.figure.Figure at 0x1a21ff4780>"
      ]
     },
     "metadata": {},
     "output_type": "display_data"
    }
   ],
   "source": [
    "all_tweets['calendar_date'] = all_tweets['date'].apply(lambda x: x.date())\n",
    "stories_by_date = all_tweets.groupby(by='calendar_date').count()['content']\n",
    "stories_by_date.plot(title='Stories published over time')"
   ]
  },
  {
   "cell_type": "markdown",
   "metadata": {},
   "source": [
    "### Source adoption of Twitter over time"
   ]
  },
  {
   "cell_type": "code",
   "execution_count": 15,
   "metadata": {},
   "outputs": [
    {
     "data": {
      "text/plain": [
       "<matplotlib.legend.Legend at 0x112ddbbe0>"
      ]
     },
     "execution_count": 15,
     "metadata": {},
     "output_type": "execute_result"
    },
    {
     "data": {
      "image/png": "[encoded data removed]",
      "text/plain": [
       "<matplotlib.figure.Figure at 0x1a21ff0d30>"
      ]
     },
     "metadata": {},
     "output_type": "display_data"
    }
   ],
   "source": [
    "stories_per_day_by_source = pd.get_dummies(all_tweets, columns=['source']).groupby(by='calendar_date').sum()\n",
    "cleaned_feature_names = {x:x[x.index(\"_\")+1:] for x in list(stories_per_day_by_source.columns)}\n",
    "stories_per_day_by_source = stories_per_day_by_source.rename(columns = cleaned_feature_names)\n",
    "plt = stories_per_day_by_source.plot()\n",
    "plt.legend(bbox_to_anchor=(1.05, 1), loc=2, borderaxespad=0.)"
   ]
  },
  {
   "cell_type": "markdown",
   "metadata": {},
   "source": [
    "## Keyword extraction"
   ]
  },
  {
   "cell_type": "code",
   "execution_count": 28,
   "metadata": {},
   "outputs": [
    {
     "name": "stdout",
     "output_type": "stream",
     "text": [
      "[nltk_data] Downloading package stopwords to\n",
      "[nltk_data]     /Users/joseph/nltk_data...\n",
      "[nltk_data]   Package stopwords is already up-to-date!\n"
     ]
    }
   ],
   "source": [
    "import nltk\n",
    "from nltk.corpus import stopwords\n",
    "import string\n",
    "nltk.download('stopwords')\n",
    "stopwords_en = stopwords.words('english') + list(string.punctuation)"
   ]
  },
  {
   "cell_type": "code",
   "execution_count": 29,
   "metadata": {},
   "outputs": [
    {
     "name": "stdout",
     "output_type": "stream",
     "text": [
      "0.1879164955942267% don't have links\n"
     ]
    }
   ],
   "source": [
    "all_tweets['index_of_link'] = all_tweets['content'].apply(lambda x: x.find(\"http\"))\n",
    "number_without_link = len(all_tweets[all_tweets['index_of_link'] == 0])\n",
    "print(\"{}% don't have links\".format(number_without_link*100 / len(all_tweets)))"
   ]
  },
  {
   "cell_type": "code",
   "execution_count": null,
   "metadata": {
    "collapsed": true
   },
   "outputs": [],
   "source": []
  },
  {
   "cell_type": "code",
   "execution_count": null,
   "metadata": {
    "collapsed": true
   },
   "outputs": [],
   "source": []
  },
  {
   "cell_type": "code",
   "execution_count": 30,
   "metadata": {
    "collapsed": true
   },
   "outputs": [],
   "source": [
    "all_tweets['urls'] = all_tweets['content'].apply(lambda x: re.findall(r\"http\\S+\", x))\n",
    "all_tweets['raw_text'] = all_tweets['content'].apply(lambda x: re.sub(r\"http\\S+\", \"\", x))\n",
    "all_tweets['raw_text'] = all_tweets['raw_text'].apply(lambda x: x.lower())\n",
    "all_tweets['raw_text'] = all_tweets['raw_text'].apply(lambda x: re.sub(\"\\n\",\"\",x))\n",
    "all_tweets['without_stop_words'] = all_tweets['raw_text']"
   ]
  },
  {
   "cell_type": "code",
   "execution_count": 31,
   "metadata": {
    "collapsed": true
   },
   "outputs": [],
   "source": [
    "def remove_stopwords(x):\n",
    "    output = ''\n",
    "    for w in x.split(\" \"):\n",
    "        if w not in stopwords_en:\n",
    "            output = output+\" \"+w\n",
    "    return output"
   ]
  },
  {
   "cell_type": "code",
   "execution_count": 32,
   "metadata": {
    "scrolled": true
   },
   "outputs": [
    {
     "data": {
      "text/plain": [
       "0                         breast cancer risk test devised \n",
       "1                       gp workload harming care bma poll \n",
       "2                     short people's 'heart risk greater' \n",
       "3                            new approach hiv 'promising' \n",
       "4                      coalition 'undermined nhs' doctors \n",
       "5                                 review case nhs manager \n",
       "6                       video: 'all day empty, going do?' \n",
       "7               video: 'overhaul needed' end-of-life care \n",
       "8                             care dying 'needs overhaul' \n",
       "9                    video: nhs: labour tory key policies \n",
       "10                                 gp services got worse? \n",
       "11                   a&amp;e waiting hits new worst level \n",
       "12                           parties row gp opening hours \n",
       "13                                 strenuous runs may bad \n",
       "14                video: health surcharge non-eu patients \n",
       "15           video: skin cancer spike 'from 60s holidays' \n",
       "16                     80,000 'might die' future outbreak \n",
       "17                      skin cancer 'linked holiday boom' \n",
       "18                       public 'back tax rises fund nhs' \n",
       "19                         video: welcome designer asylum \n",
       "20                                       video: less sex? \n",
       "21                               five ideas transform nhs \n",
       "22                    personal cancer vaccines 'exciting' \n",
       "23                    child heart surgery deaths 'halved' \n",
       "24                  video: miliband: cameron 'failed' nhs \n",
       "25                    unsafe food 'growing global threat' \n",
       "26                                      health highlights \n",
       "27                   ambulance progress 'not fast enough' \n",
       "28                 childrenâs hospital builds sleep app \n",
       "29                      drug giant 'blocks' eye treatment \n",
       "                               ...                        \n",
       "63296                patients cram tests health-law start \n",
       "63297                     neighbors fume radioactive dump \n",
       "63298           reimbursement breast-cancer risk test cut \n",
       "63299                       health law unfurls, key dates \n",
       "63300     rt @stefaniei: merck overhauls r&amp;d keep r...\n",
       "63301     rt @lauralandrowsj: opening pandora's box hea...\n",
       "63302     rt @stefaniei: massachusetts' health site str...\n",
       "63303      merck plans radical overhaul drug r&amp;d unit \n",
       "63304                massachusetts' health site struggles \n",
       "63305     rt @shirleyswangwsj: make difference? china b...\n",
       "63306     rt @stefaniei: sure 'vaping' is? e-cigarette ...\n",
       "63307     rt @stefaniei: ever happened to...  remember ...\n",
       "63308     rt @stefaniei: survivors childhood cancer fac...\n",
       "63309                    childhood cancer's new conundrum \n",
       "63310     rt @jonathanrockoff: knee arthroscopies quite...\n",
       "63311     rt @stefaniei: missed (latest) deadline sign ...\n",
       "63312     rt @lauralandrowsj: cleveland clinic voices c...\n",
       "63313     rt @stefaniei: surgery always answer knee inj...\n",
       "63314     cleveland clinic voices concerns uterine proc...\n",
       "63315                    china tightens formula standards \n",
       "63316                       reactors slow road demolition \n",
       "63317            health-insurance deadlines keep slipping \n",
       "63318      fake knee surgery good real thing, study finds \n",
       "63319     rt @stefaniei: necc compounding pharmacy agre...\n",
       "63320     rt @timothywmartin: every health insurer spok...\n",
       "63321     rt @stefaniei: addiction brain: scientists ex...\n",
       "63322     rt @timothywmartin: ho-ho-hold up! surprise g...\n",
       "63323     rt @stefaniei: health-insurance deadline exte...\n",
       "63324              boston scientific eyes china expansion \n",
       "63325            desperate family india, ray hope alabama \n",
       "Name: without_stop_words, Length: 63326, dtype: object"
      ]
     },
     "execution_count": 32,
     "metadata": {},
     "output_type": "execute_result"
    }
   ],
   "source": [
    "all_tweets['without_stop_words'].apply(remove_stopwords)"
   ]
  },
  {
   "cell_type": "code",
   "execution_count": null,
   "metadata": {
    "collapsed": true
   },
   "outputs": [],
   "source": []
  },
  {
   "cell_type": "code",
   "execution_count": 21,
   "metadata": {
    "collapsed": true
   },
   "outputs": [],
   "source": [
    "# from nltk.tokenize import TreebankWordTokenizer\n",
    "# tokenizer = TreebankWordTokenizer()\n",
    "# s = all_tweets['content'][0]\n",
    "# tokenizer.tokenize(s)"
   ]
  },
  {
   "cell_type": "code",
   "execution_count": null,
   "metadata": {
    "collapsed": true
   },
   "outputs": [],
   "source": []
  },
  {
   "cell_type": "code",
   "execution_count": 22,
   "metadata": {},
   "outputs": [
    {
     "name": "stdout",
     "output_type": "stream",
     "text": [
      "Collecting rake-nltk\n",
      "  Downloading https://files.pythonhosted.org/packages/c7/41/649b240a3bad300ef07da90e0559b67a404265431043af88ea54688072fa/rake_nltk-1.0.2.tar.gz\n",
      "Requirement already satisfied: nltk in /Users/joseph/anaconda3/lib/python3.6/site-packages (from rake-nltk)\n",
      "Requirement already satisfied: six in /Users/joseph/anaconda3/lib/python3.6/site-packages (from nltk->rake-nltk)\n",
      "Building wheels for collected packages: rake-nltk\n",
      "  Running setup.py bdist_wheel for rake-nltk ... \u001b[?25ldone\n",
      "\u001b[?25h  Stored in directory: /Users/joseph/Library/Caches/pip/wheels/19/d9/e5/a69499502d0f7d15d115d7660addafc95f546586f7106f84a7\n",
      "Successfully built rake-nltk\n",
      "Installing collected packages: rake-nltk\n",
      "Successfully installed rake-nltk-1.0.2\n",
      "\u001b[33mYou are using pip version 9.0.3, however version 10.0.0 is available.\n",
      "You should consider upgrading via the 'pip install --upgrade pip' command.\u001b[0m\n"
     ]
    }
   ],
   "source": [
    "!pip install rake-nltk\n",
    "from rake_nltk import Rake"
   ]
  },
  {
   "cell_type": "code",
   "execution_count": 23,
   "metadata": {},
   "outputs": [
    {
     "data": {
      "text/plain": [
       "['insurance deadline exten ... 63324 boston scientific eyes china expansion http ://... 63325',\n",
       " 'e waiting hits new worst level http :// bb ... 12 parties row',\n",
       " 'insurance deadlines keep slipping http :... 63318 fake knee surgery',\n",
       " 'hospital builds sleep app http ://... 29 drug giant',\n",
       " 'uterine ... 63315 china tightens formula standards http ://',\n",
       " 'http :// bbc ... 26 health highlights http :// bbc',\n",
       " 'bma poll http :// bbc ... 2 short people',\n",
       " 'http :// bbc ... 23 child heart surgery deaths',\n",
       " 'future outbreak http :// b ... 17 skin cancer',\n",
       " 'health site stru ... 63303 merck plans radical overhaul',\n",
       " '0 breast cancer risk test devised http :// bbc',\n",
       " 'answer fo ... 63314 cleveland clinic voices concerns',\n",
       " 'designer asylum http :// b ... 20 video',\n",
       " 'nhs manager http :// bbc .... 6 video',\n",
       " 'http :// bbc ... 3 new approach',\n",
       " 'doctors http :// bb ... 5 review',\n",
       " 'http :// bb ... 28 childrenâ \\x80\\x99',\n",
       " 'http :// bbc .... 21 five ideas',\n",
       " 'cleveland clinic voices co ... 63313 rt',\n",
       " 'necc compounding pharmacy agree ... 63320 rt',\n",
       " 'childhood cancer f ... 63309 childhood cancer',\n",
       " 'http :// bb ... 4 coalition',\n",
       " 'http :// bb ... 18 public',\n",
       " 'tory key policies http :... 10',\n",
       " 'http :// bbc ... 24 video',\n",
       " 'http :// bbc ... 19 video',\n",
       " 'gp opening hours http :// bbc',\n",
       " 'nhs http ... 25 unsafe food',\n",
       " 'eu patients ht ... 15 video',\n",
       " 'law start ... 63297 neighbors fume',\n",
       " '/... 1 gp workload harming care',\n",
       " 'eye treatment http :// bbc',\n",
       " 'health site struggles http ://',\n",
       " '... ... 63296 patients cram',\n",
       " 'life care ... 8 care',\n",
       " 'new conundrum http ://',\n",
       " '/... 22 personal cancer vaccines',\n",
       " '... remem ... 63308 rt',\n",
       " 'nhs http :// bbc',\n",
       " 'key dates http ://',\n",
       " 'radioactive dump http ://',\n",
       " 'http :// bbc',\n",
       " 'keep ... 63301 rt',\n",
       " 'hope f ... name',\n",
       " 'wsj ... 63310 rt',\n",
       " 'surprise ... 63323 rt',\n",
       " 'study ... 63319 rt',\n",
       " 'spo ... 63321 rt',\n",
       " 'scient ... 63322 rt',\n",
       " 'qu ... 63311 rt',\n",
       " 'differen ... 63306 rt',\n",
       " 'dead ... 63312 rt',\n",
       " 'ci ... 63307 rt',\n",
       " 'wsj ... 63316 reactors',\n",
       " 'w ... 63298 reimbursement',\n",
       " 'h ... 16 80',\n",
       " 'gp services got worse',\n",
       " 'cancer risk test',\n",
       " 'demolition http ://',\n",
       " 'u ... 63304 massachusetts',\n",
       " 'n 27 ambulance progress',\n",
       " 'b ... 63299',\n",
       " 'skin cancer spike',\n",
       " '... 7 video',\n",
       " '... 14 video',\n",
       " 'heart risk greater',\n",
       " '.... 63317 health',\n",
       " '/... 9 video',\n",
       " '... 63305 rt',\n",
       " '... 63302 rt',\n",
       " '... 63300 rt',\n",
       " 'health law unfurls',\n",
       " '1ci5 ... 11',\n",
       " 'merck overhauls r',\n",
       " 'every health insurer',\n",
       " 'surgery always',\n",
       " 'strenuous runs may',\n",
       " 'growing global threat',\n",
       " 'back tax rises',\n",
       " 'knee arthroscopies',\n",
       " 'drug r',\n",
       " '... 13',\n",
       " 'e',\n",
       " 'health surcharge',\n",
       " 'overhaul needed',\n",
       " 'needs overhaul',\n",
       " 'undermined nhs',\n",
       " 'fund nhs',\n",
       " 'breast',\n",
       " 'health',\n",
       " 'slow road',\n",
       " 'real thing',\n",
       " 'might die',\n",
       " 'less sex',\n",
       " 'holiday boom',\n",
       " 'fast enough',\n",
       " 'ever happened',\n",
       " 'desperate family',\n",
       " '60s holidays',\n",
       " 'nhs',\n",
       " 'opening',\n",
       " 'massachusetts',\n",
       " 'welcome',\n",
       " 'vaping',\n",
       " 'transform',\n",
       " 'timothywmartin',\n",
       " 'tests',\n",
       " 'survivors',\n",
       " 'sure',\n",
       " 'stefaniei',\n",
       " 'shirleyswangwsj',\n",
       " 'ray',\n",
       " 'promising',\n",
       " 'pandora',\n",
       " 'object',\n",
       " 'non',\n",
       " 'missed',\n",
       " 'miliband',\n",
       " 'make',\n",
       " 'linked',\n",
       " 'length',\n",
       " 'lauralandrowsj',\n",
       " 'latest',\n",
       " 'labour',\n",
       " 'jonathanrockoff',\n",
       " 'india',\n",
       " 'hold',\n",
       " 'ho',\n",
       " 'hiv',\n",
       " 'halved',\n",
       " 'good',\n",
       " 'going',\n",
       " 'failed',\n",
       " 'exciting',\n",
       " 'end',\n",
       " 'empty',\n",
       " 'dying',\n",
       " 'dtype',\n",
       " 'day',\n",
       " 'content',\n",
       " 'case',\n",
       " 'cameron',\n",
       " 'brain',\n",
       " 'box',\n",
       " 'blocks',\n",
       " 'bad',\n",
       " 'amp',\n",
       " 'addiction',\n",
       " '63326',\n",
       " '1eklfck',\n",
       " '000']"
      ]
     },
     "execution_count": 23,
     "metadata": {},
     "output_type": "execute_result"
    }
   ],
   "source": [
    "r=Rake()\n",
    "r.extract_keywords_from_text(str(all_tweets['content']))\n",
    "r.get_ranked_phrases() # To get keyword phrases ranked highest to lowest."
   ]
  },
  {
   "cell_type": "code",
   "execution_count": 24,
   "metadata": {},
   "outputs": [
    {
     "data": {
      "text/plain": [
       "0        Breast cancer risk test devised http://bbc.in/...\n",
       "1        GP workload harming care - BMA poll http://bbc...\n",
       "2        Short people's 'heart risk greater' http://bbc...\n",
       "3        New approach against HIV 'promising' http://bb...\n",
       "4        Coalition 'undermined NHS' - doctors http://bb...\n",
       "5        Review of case against NHS manager http://bbc....\n",
       "6        VIDEO: 'All day is empty, what am I going to d...\n",
       "7        VIDEO: 'Overhaul needed' for end-of-life care ...\n",
       "8        Care for dying 'needs overhaul' http://bbc.in/...\n",
       "9        VIDEO: NHS: Labour and Tory key policies http:...\n",
       "10       Have GP services got worse? http://bbc.in/1Ci5...\n",
       "11       A&amp;E waiting hits new worst level http://bb...\n",
       "12       Parties row over GP opening hours http://bbc.i...\n",
       "13       Why strenuous runs may not be so bad after all...\n",
       "14       VIDEO: Health surcharge for non-EU patients ht...\n",
       "15       VIDEO: Skin cancer spike 'from 60s holidays' h...\n",
       "16       80,000 'might die' in future outbreak http://b...\n",
       "17       Skin cancer 'linked to holiday boom' http://bb...\n",
       "18       Public 'back tax rises to fund NHS' http://bbc...\n",
       "19       VIDEO: Welcome to the designer asylum http://b...\n",
       "20       VIDEO: Why are we having less sex? http://bbc....\n",
       "21       Five ideas to transform the NHS http://bbc.in/...\n",
       "22       Personal cancer vaccines 'exciting' http://bbc...\n",
       "23       Child heart surgery deaths 'halved' http://bbc...\n",
       "24       VIDEO: Miliband: Cameron 'failed' the NHS http...\n",
       "25       Unsafe food 'growing global threat' http://bbc...\n",
       "26               Health highlights http://bbc.in/1EKlFCK\\n\n",
       "27       Ambulance progress 'not fast enough' http://bb...\n",
       "28       Childrenâs hospital builds sleep app http://...\n",
       "29       Drug giant 'blocks' eye treatment http://bbc.i...\n",
       "                               ...                        \n",
       "63296    Patients Cram In Tests Before Health-Law Start...\n",
       "63297    Neighbors Fume at Radioactive Dump http://on.w...\n",
       "63298    Reimbursement for Breast-Cancer Risk Test to B...\n",
       "63299    As Health Law Unfurls, Some Key Dates http://o...\n",
       "63300    RT @stefaniei: Merck overhauls R&amp;D to keep...\n",
       "63301    RT @LauraLandroWSJ: Opening a Pandora's box of...\n",
       "63302    RT @stefaniei: Massachusetts' Health Site Stru...\n",
       "63303    Merck Plans Radical Overhaul of Drug R&amp;D U...\n",
       "63304    Massachusetts' Health Site Struggles http://on...\n",
       "63305    RT @ShirleySWangWSJ: Will this make a differen...\n",
       "63306    RT @stefaniei: Not sure what 'vaping' is? E-ci...\n",
       "63307    RT @stefaniei: What ever happened to...  Remem...\n",
       "63308    RT @stefaniei: Survivors of childhood cancer f...\n",
       "63309    Childhood Cancer's New Conundrum http://on.wsj...\n",
       "63310    RT @jonathanrockoff: Knee arthroscopies are qu...\n",
       "63311    RT @stefaniei: If you missed the (latest) dead...\n",
       "63312    RT @LauraLandroWSJ: Cleveland Clinic Voices Co...\n",
       "63313    RT @stefaniei: Is surgery always the answer fo...\n",
       "63314    Cleveland Clinic Voices Concerns Over Uterine ...\n",
       "63315    China Tightens Formula Standards http://on.wsj...\n",
       "63316    Reactors on Slow Road to Demolition http://on....\n",
       "63317    Health-Insurance Deadlines Keep Slipping http:...\n",
       "63318    Fake Knee Surgery as Good as Real Thing, Study...\n",
       "63319    RT @stefaniei: NECC compounding pharmacy agree...\n",
       "63320    RT @timothywmartin: Every health insurer I spo...\n",
       "63321    RT @stefaniei: Addiction and the brain: scient...\n",
       "63322    RT @timothywmartin: Ho-ho-hold up! A surprise ...\n",
       "63323    RT @stefaniei: Health-Insurance Deadline Exten...\n",
       "63324    Boston Scientific Eyes China Expansion http://...\n",
       "63325    For Desperate Family in India, a Ray of Hope F...\n",
       "Name: content, Length: 63326, dtype: object"
      ]
     },
     "execution_count": 24,
     "metadata": {},
     "output_type": "execute_result"
    }
   ],
   "source": [
    "all_tweets['content']"
   ]
  }
 ],
 "metadata": {
  "kernelspec": {
   "display_name": "Python 3",
   "language": "python",
   "name": "python3"
  },
  "language_info": {
   "codemirror_mode": {
    "name": "ipython",
    "version": 3
   },
   "file_extension": ".py",
   "mimetype": "text/x-python",
   "name": "python",
   "nbconvert_exporter": "python",
   "pygments_lexer": "ipython3",
   "version": "3.6.3"
  }
 },
 "nbformat": 4,
 "nbformat_minor": 2
}
